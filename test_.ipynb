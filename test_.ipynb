{
 "cells": [
  {
   "cell_type": "code",
   "execution_count": 1,
   "metadata": {
    "colab": {
     "base_uri": "https://localhost:8080/"
    },
    "id": "FEZMMe6pp4Qa",
    "outputId": "56fd9b71-5c1c-42d2-f3da-01d824e20e96"
   },
   "outputs": [
    {
     "name": "stdout",
     "output_type": "stream",
     "text": [
      "ABC\n",
      "mr a\n",
      "123\n",
      "False\n",
      "ZZZ\n",
      "mr z\n",
      "999\n",
      "True\n"
     ]
    }
   ],
   "source": [
    "class Book():\n",
    "  def __init__(self, title, author,isbn, is_borrow):\n",
    "    self.title = title\n",
    "    self.author = author\n",
    "    self.isbn = isbn\n",
    "    self.is_borrow = is_borrow\n",
    "\n",
    "\n",
    "  def borrow(self):\n",
    "    self.is_borrow = True\n",
    "\n",
    "  def return_book(self):\n",
    "    self.is_borrow = False\n",
    "\n",
    "o1 = Book(\"ABC\",\"mr a\",\"123\",False)\n",
    "print(o1.title)\n",
    "print(o1.author)\n",
    "print(o1.isbn)\n",
    "print(o1.is_borrow)\n",
    "\n",
    "o1 = Book(\"ZZZ\",\"mr z\",\"999\",True)\n",
    "print(o1.title)\n",
    "print(o1.author)\n",
    "print(o1.isbn)\n",
    "print(o1.is_borrow)"
   ]
  },
  {
   "cell_type": "code",
   "execution_count": 2,
   "metadata": {
    "colab": {
     "base_uri": "https://localhost:8080/"
    },
    "id": "XV7zdEeLp7l0",
    "outputId": "9c1b5b5d-ea43-41d6-97e0-405e597027af"
   },
   "outputs": [
    {
     "name": "stdout",
     "output_type": "stream",
     "text": [
      "ABC\n",
      "mr a\n",
      "123\n",
      "False\n"
     ]
    }
   ],
   "source": [
    "# Create a subclass named DigitalBook that inherits from Book:\n",
    "# Additional Attributes:\n",
    "# file_format (string): Format of the digital book (e.g., PDF, EPUB).\n",
    "# Override the borrow() method to print an additional message indicating that the book can be accessed online.\n",
    "\n",
    "\n",
    "class DigitalBook(Book):\n",
    "  def __init__(self, title, author,isbn, is_borrow,file_format):\n",
    "    super().__init__(title, author,isbn,is_borrow)\n",
    "    self.file_format = file_format\n",
    "\n",
    "  def borrow(self):\n",
    "    print(\"The book can be accessed online\")\n",
    "o2 = DigitalBook(\"ABC\",\"mr a\",\"123\",False,\"PDF\")\n",
    "print(o2.title)\n",
    "print(o2.author)\n",
    "print(o2.isbn)\n",
    "print(o2.is_borrow)"
   ]
  },
  {
   "cell_type": "code",
   "execution_count": 3,
   "metadata": {
    "colab": {
     "base_uri": "https://localhost:8080/"
    },
    "id": "1wkq1Ektp_kJ",
    "outputId": "abe8c3e3-912d-423a-c765-adfdb1466000"
   },
   "outputs": [
    {
     "name": "stdout",
     "output_type": "stream",
     "text": [
      "ABC\n",
      "mr a\n",
      "123\n",
      "False\n"
     ]
    }
   ],
   "source": [
    "# Create another subclass named AudioBook that inherits from Book:\n",
    "# Additional Attributes:\n",
    "# duration (float): The length of the audiobook in hours.\n",
    "# Override the borrow() method to print an additional message indicating that the audiobook is available for streaming.\n",
    "\n",
    "class AudioBook(Book):\n",
    "  def __init__(self, title, author,isbn, is_borrow,duration):\n",
    "    super().__init__(title, author,isbn,is_borrow)\n",
    "    self.duration = duration\n",
    "\n",
    "  def borrow(self):\n",
    "    print(\"The audiobook is available for streaming\")\n",
    "o3 = AudioBook(\"ABC\",\"mr a\",\"123\",False,1.5)\n",
    "print(o3.title)\n",
    "print(o3.author)\n",
    "print(o3.isbn)\n",
    "print(o3.is_borrow)"
   ]
  },
  {
   "cell_type": "code",
   "execution_count": 9,
   "metadata": {
    "colab": {
     "base_uri": "https://localhost:8080/"
    },
    "id": "WZvsI1ftqCe4",
    "outputId": "48443d61-94d4-49e1-e87e-4b2ae4066df1"
   },
   "outputs": [
    {
     "name": "stdout",
     "output_type": "stream",
     "text": [
      "123\n",
      "Amin\n",
      "[3, 4, 4]\n",
      "New Book\n",
      "Some Author\n",
      "987\n",
      "False\n"
     ]
    }
   ],
   "source": [
    "# Create a class named User:\n",
    "# Attributes:\n",
    "# user_id (string): A unique identifier for each user.\n",
    "# name (string): The user’s name.\n",
    "# borrowed_books (list): A list of Book objects borrowed by the user.\n",
    "\n",
    "# Methods:\n",
    "# borrow_book(book): Adds a book to borrowed_books if it is not already borrowed. Use encapsulation to ensure users cannot modify borrowed_books directly.\n",
    "# return_book(book): Removes the book from borrowed_books and marks it as returned.\n",
    "\n",
    "# class User():\n",
    "#   def __init__(self,user_id,name,borrowed_books):\n",
    "#     self.user_id = user_id\n",
    "#     self.name = name\n",
    "#     self.borrowed_books = borrowed_books\n",
    "\n",
    "#   def borrow_book(self,book):\n",
    "#     self.borrowed_books.append(book)\n",
    "#     book.borrow()\n",
    "\n",
    "#   def return_book(self,book):\n",
    "#     self.borrowed_books.remove(book)\n",
    "#     Book.return_book()\n",
    "\n",
    "# o4 = User(\"123\",\"Amin\",[3,4,4])\n",
    "# print(o4.user_id)\n",
    "# print(o4.name)\n",
    "# print(o4.borrowed_books)\n",
    "# print(o4.borrow_book([4]))\n",
    "\n",
    "\n",
    "class User():\n",
    "  def __init__(self,user_id,name,borrowed_books):\n",
    "    self.user_id = user_id\n",
    "    self.name = name\n",
    "    self.borrowed_books = borrowed_books\n",
    "\n",
    "  def borrow_book(self,book):\n",
    "    if isinstance(book, Book):\n",
    "      self.borrowed_books.append(book)\n",
    "      book.borrow()\n",
    "    else:\n",
    "      print(\"Error: Invalid book object provided.\")\n",
    "\n",
    "  def return_book(self,book):\n",
    "    self.borrowed_books.remove(book)\n",
    "    # Call return_book() on the book object, not the Book class.\n",
    "    book.return_book()\n",
    "\n",
    "o4 = User(\"123\",\"Amin\",[3,4,4])\n",
    "print(o4.user_id)\n",
    "print(o4.name)\n",
    "print(o4.borrowed_books)\n",
    "# Pass a Book object to borrow_book() instead of a list.\n",
    "# Create a Book object:\n",
    "book_to_borrow = Book(\"New Book\", \"Some Author\", \"987\", False)\n",
    "\n",
    "print(book_to_borrow.title)\n",
    "print(book_to_borrow.author)\n",
    "print(book_to_borrow.isbn)\n",
    "print(book_to_borrow.is_borrow)\n"
   ]
  },
  {
   "cell_type": "code",
   "execution_count": 10,
   "metadata": {
    "colab": {
     "base_uri": "https://localhost:8080/"
    },
    "id": "pXBIKIXoqGxp",
    "outputId": "b39fd0ab-af02-47c5-9a1c-7ed23dd5c32b"
   },
   "outputs": [
    {
     "name": "stdout",
     "output_type": "stream",
     "text": [
      "ABC\n",
      "[1, 2, 3]\n",
      "['Amin', 'Max']\n"
     ]
    }
   ],
   "source": [
    "# Create a class named Library:\n",
    "# Attributes:\n",
    "# name (string): Name of the library.\n",
    "# books (list): A list of all Book objects in the library.\n",
    "# users (list): A list of all registered User objects.\n",
    "# Methods:\n",
    "# add_book(book): Adds a new book to the library.\n",
    "# register_user(user): Registers a new user.\n",
    "# lend_book(user_id, isbn): Allows a user to borrow a book if available.\n",
    "# receive_return(user_id, isbn): Allows a user to return a borrowed book.\n",
    "\n",
    "class Library():\n",
    "  def __init__(self,name,books,users):\n",
    "    self.name = name\n",
    "    self.books = books\n",
    "    self.users = users\n",
    "\n",
    "  def add_book(self,book):\n",
    "    self.books.append(book)\n",
    "\n",
    "  def register_user(self,user):\n",
    "    self.users.append(user)\n",
    "\n",
    "  def lend_book(self,user_id,isbn):\n",
    "    for user in self.users:\n",
    "      if user.user_id == user_id:\n",
    "        for book in self.books:\n",
    "          if book.isbn == isbn:\n",
    "            if book.is_borrow == False:\n",
    "              user.borrow_book(book)\n",
    "              book.borrow()\n",
    "            else:\n",
    "              print(\"The book is already borrowed\")\n",
    "\n",
    "  def receive_return(self,user_id,isbn):\n",
    "    for user in self.users:\n",
    "      if user.user_id == user_id:\n",
    "        for book in self.books:\n",
    "          if book.isbn == isbn:\n",
    "            user.return_book\n",
    "\n",
    "o5 = Library(\"ABC\",[1,2,3],[\"Amin\",\"Max\"])\n",
    "print(o5.name)\n",
    "print(o5.books)\n",
    "print(o5.users)\n",
    "\n",
    "# my comments\n",
    "# Makinf class of book , AudioBook usser , library\n",
    "#i Inheritance  DigitalBook and AudioBook subclasses that inherit from the Book base class.\n",
    "# using Polymorphism in DigitalBook and AudioBook subclasses\n",
    "# making"
   ]
  },
  {
   "cell_type": "code",
   "execution_count": 11,
   "metadata": {
    "id": "kzEcGzfGq8nb"
   },
   "outputs": [],
   "source": [
    "\n",
    "def analyze_file(amin1):\n",
    "\n",
    "    try:\n",
    "        with open(amin1.txt, 'r') as file:\n",
    "            lines = file.readlines()\n",
    "            num_lines = len(lines)\n",
    "            num_words = sum(len(line.split()) for line in lines)\n",
    "            num_chars = sum(len(line) for line in lines)\n",
    "\n",
    "            return {\n",
    "                'characters': num_chars,\n",
    "                'words': num_words,\n",
    "                'lines': num_lines\n",
    "            }\n",
    "    except FileNotFoundError:\n",
    "        print(f\"Error: The file '{amin1.txt}' was not found.\")\n",
    "        return None\n",
    "    except Exception as e:\n",
    "        print(f\"An error occurred: {e}\")\n",
    "        return None\n",
    "\n",
    "\n",
    "def search_word(amin1, word):\n",
    "    try:\n",
    "        with open(filename, 'r') as file:\n",
    "            content = file.read()\n",
    "            words = content.split()\n",
    "            count = sum(1 for w in words if w.lower() == word.lower())\n",
    "\n",
    "            return count\n",
    "    except FileNotFoundError:\n",
    "        print(f\"Error: The file '{filename}' was not found.\")\n",
    "        return None\n",
    "    except Exception as e:\n",
    "        print(f\"An error occurred: {e}\")\n",
    "        return None\n"
   ]
  },
  {
   "cell_type": "code",
   "execution_count": null,
   "metadata": {
    "id": "pmcKd29vtJed"
   },
   "outputs": [],
   "source": []
  }
 ],
 "metadata": {
  "colab": {
   "provenance": [],
   "toc_visible": true
  },
  "kernelspec": {
   "display_name": "Python 3 (ipykernel)",
   "language": "python",
   "name": "python3"
  },
  "language_info": {
   "codemirror_mode": {
    "name": "ipython",
    "version": 3
   },
   "file_extension": ".py",
   "mimetype": "text/x-python",
   "name": "python",
   "nbconvert_exporter": "python",
   "pygments_lexer": "ipython3",
   "version": "3.11.5"
  }
 },
 "nbformat": 4,
 "nbformat_minor": 1
}
